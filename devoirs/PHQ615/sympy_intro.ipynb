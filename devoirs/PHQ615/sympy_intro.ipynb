{
 "cells": [
  {
   "cell_type": "markdown",
   "metadata": {},
   "source": [
    "# SymPy"
   ]
  },
  {
   "cell_type": "markdown",
   "metadata": {},
   "source": [
    "### Principales fonction de SymPy\n",
    "\n",
    "symbols\n",
    "Function\n",
    "Integral\n",
    "expand\n",
    "diff\n",
    "Matrix\n",
    "limit\n",
    "solve\n",
    "Eq\n",
    "simplify\n",
    "Rational\n"
   ]
  },
  {
   "cell_type": "markdown",
   "metadata": {},
   "source": [
    "### symbols, init_printing, Integral"
   ]
  },
  {
   "cell_type": "code",
   "execution_count": 1,
   "metadata": {},
   "outputs": [
    {
     "name": "stdout",
     "output_type": "stream",
     "text": [
      "1.1.1\n"
     ]
    }
   ],
   "source": [
    "import sympy\n",
    "print(sympy.__version__)"
   ]
  },
  {
   "cell_type": "code",
   "execution_count": 2,
   "metadata": {},
   "outputs": [
    {
     "data": {
      "image/png": "[encoded data removed]",
      "text/latex": [
       "$$\\int x^{\\frac{3}{2}}\\, dx$$"
      ],
      "text/plain": [
       "⌠        \n",
       "⎮  3/2   \n",
       "⎮ x    dx\n",
       "⌡        "
      ]
     },
     "execution_count": 2,
     "metadata": {},
     "output_type": "execute_result"
    }
   ],
   "source": [
    "from sympy import *\n",
    "\n",
    "x = symbols('x')\n",
    "init_printing()\n",
    "Integral(x*sqrt(x),x)"
   ]
  },
  {
   "cell_type": "code",
   "execution_count": 2,
   "metadata": {},
   "outputs": [
    {
     "data": {
      "image/png": "[encoded data removed]",
      "text/latex": [
       "$$\\frac{2 x^{\\frac{5}{2}}}{5}$$"
      ],
      "text/plain": [
       "   5/2\n",
       "2⋅x   \n",
       "──────\n",
       "  5   "
      ]
     },
     "execution_count": 2,
     "metadata": {},
     "output_type": "execute_result"
    }
   ],
   "source": [
    "integrate(x*sqrt(x),x)"
   ]
  },
  {
   "cell_type": "code",
   "execution_count": 5,
   "metadata": {},
   "outputs": [
    {
     "data": {
      "image/png": "[encoded data removed]",
      "text/latex": [
       "$$1$$"
      ],
      "text/plain": [
       "1"
      ]
     },
     "execution_count": 5,
     "metadata": {},
     "output_type": "execute_result"
    }
   ],
   "source": [
    "integrate(exp(-x), (x, 0, oo))"
   ]
  },
  {
   "cell_type": "markdown",
   "metadata": {},
   "source": [
    "### expand, series"
   ]
  },
  {
   "cell_type": "code",
   "execution_count": 9,
   "metadata": {},
   "outputs": [
    {
     "data": {
      "image/png": "[encoded data removed]",
      "text/latex": [
       "$$x - \\frac{2 x^{3}}{3} + \\frac{2 x^{5}}{15} - \\frac{4 x^{7}}{315} + \\frac{2 x^{9}}{2835} - \\frac{4 x^{11}}{155925} + \\frac{4 x^{13}}{6081075} - \\frac{8 x^{15}}{638512875} + \\frac{2 x^{17}}{10854718875} - \\frac{4 x^{19}}{1856156927625} + \\frac{4 x^{21}}{194896477400625} + \\mathcal{O}\\left(x^{22}\\right)$$"
      ],
      "text/plain": [
       "       3      5      7      9      11        13         15           17       \n",
       "    2⋅x    2⋅x    4⋅x    2⋅x    4⋅x       4⋅x        8⋅x          2⋅x         \n",
       "x - ──── + ──── - ──── + ──── - ────── + ─────── - ───────── + ─────────── - ─\n",
       "     3      15    315    2835   155925   6081075   638512875   10854718875   1\n",
       "\n",
       "      19               21              \n",
       "   4⋅x              4⋅x           ⎛ 22⎞\n",
       "──────────── + ─────────────── + O⎝x  ⎠\n",
       "856156927625   194896477400625         "
      ]
     },
     "execution_count": 9,
     "metadata": {},
     "output_type": "execute_result"
    }
   ],
   "source": [
    "expand(series(cos(x), n=22)*series(sin(x), n=22))"
   ]
  },
  {
   "cell_type": "code",
   "execution_count": 6,
   "metadata": {},
   "outputs": [
    {
     "data": {
      "image/png": "[encoded data removed]",
      "text/latex": [
       "$$1 - \\frac{x^{2}}{2} + \\frac{x^{4}}{24} - \\frac{x^{6}}{720} + \\frac{x^{8}}{40320} - \\frac{x^{10}}{3628800} + \\mathcal{O}\\left(x^{12}\\right)$$"
      ],
      "text/plain": [
       "     2    4     6      8       10           \n",
       "    x    x     x      x       x        ⎛ 12⎞\n",
       "1 - ── + ── - ─── + ───── - ─────── + O⎝x  ⎠\n",
       "    2    24   720   40320   3628800         "
      ]
     },
     "execution_count": 6,
     "metadata": {},
     "output_type": "execute_result"
    }
   ],
   "source": [
    "series(cos(x), n=12)"
   ]
  },
  {
   "cell_type": "code",
   "execution_count": 4,
   "metadata": {},
   "outputs": [
    {
     "data": {
      "image/png": "[encoded data removed]",
      "text/latex": [
       "$$\\frac{x}{2} + \\frac{x^{3}}{8} + \\frac{x^{5}}{16} + \\frac{5 x^{7}}{128} + \\frac{7 x^{9}}{256} + \\frac{21 x^{11}}{1024} + \\mathcal{O}\\left(x^{12}\\right)$$"
      ],
      "text/plain": [
       "     3    5      7      9       11         \n",
       "x   x    x    5⋅x    7⋅x    21⋅x      ⎛ 12⎞\n",
       "─ + ── + ── + ──── + ──── + ────── + O⎝x  ⎠\n",
       "2   8    16   128    256     1024          "
      ]
     },
     "execution_count": 4,
     "metadata": {},
     "output_type": "execute_result"
    }
   ],
   "source": [
    "series(1/x - sqrt((1/x)**2-1), n=12)"
   ]
  },
  {
   "cell_type": "markdown",
   "metadata": {},
   "source": [
    "### diff"
   ]
  },
  {
   "cell_type": "code",
   "execution_count": 11,
   "metadata": {
    "collapsed": true,
    "jupyter": {
     "outputs_hidden": true
    }
   },
   "outputs": [
    {
     "data": {
      "image/png": "[encoded data removed]",
      "text/latex": [
       "$$- e^{x} \\sin{\\left (x \\right )} + e^{x} \\cos{\\left (x \\right )}$$"
      ],
      "text/plain": [
       "   x           x       \n",
       "- ℯ ⋅sin(x) + ℯ ⋅cos(x)"
      ]
     },
     "execution_count": 11,
     "metadata": {},
     "output_type": "execute_result"
    }
   ],
   "source": [
    "diff(cos(x)*exp(x),x)"
   ]
  },
  {
   "cell_type": "code",
   "execution_count": 12,
   "metadata": {},
   "outputs": [
    {
     "data": {
      "image/png": "[encoded data removed]",
      "text/latex": [
       "$$- x y \\sin{\\left (x y \\right )} + \\cos{\\left (x y \\right )}$$"
      ],
      "text/plain": [
       "-x⋅y⋅sin(x⋅y) + cos(x⋅y)"
      ]
     },
     "execution_count": 12,
     "metadata": {},
     "output_type": "execute_result"
    }
   ],
   "source": [
    "x, y = symbols('x y')\n",
    "A = sin(x*y)\n",
    "diff(A, x, y)   # deuxième dérivée croisée"
   ]
  },
  {
   "cell_type": "code",
   "execution_count": 13,
   "metadata": {},
   "outputs": [
    {
     "data": {
      "image/png": "[encoded data removed]",
      "text/latex": [
       "$$- x y \\sin{\\left (x y \\right )} + \\cos{\\left (x y \\right )}$$"
      ],
      "text/plain": [
       "-x⋅y⋅sin(x⋅y) + cos(x⋅y)"
      ]
     },
     "execution_count": 13,
     "metadata": {},
     "output_type": "execute_result"
    }
   ],
   "source": [
    "x, y = symbols('x y')\n",
    "A = sin(x*y)\n",
    "A.diff(x, y)   # deuxième dérivée croisée"
   ]
  },
  {
   "cell_type": "markdown",
   "metadata": {},
   "source": [
    "### limit"
   ]
  },
  {
   "cell_type": "code",
   "execution_count": 14,
   "metadata": {},
   "outputs": [
    {
     "data": {
      "image/png": "[encoded data removed]",
      "text/latex": [
       "$$y$$"
      ],
      "text/plain": [
       "y"
      ]
     },
     "execution_count": 14,
     "metadata": {},
     "output_type": "execute_result"
    }
   ],
   "source": [
    "x, y, z = symbols('x y z')\n",
    "limit(sin(x*y)/x, x, 0)"
   ]
  },
  {
   "cell_type": "markdown",
   "metadata": {},
   "source": [
    "### solve\n",
    "\n",
    "Solution d'équations algébriques"
   ]
  },
  {
   "cell_type": "code",
   "execution_count": 15,
   "metadata": {},
   "outputs": [
    {
     "data": {
      "image/png": "[encoded data removed]",
      "text/latex": [
       "$$\\left [ y\\right ]$$"
      ],
      "text/plain": [
       "[y]"
      ]
     },
     "execution_count": 15,
     "metadata": {},
     "output_type": "execute_result"
    }
   ],
   "source": [
    "solve(x**2 - 2*x*y + y**2, x)"
   ]
  },
  {
   "cell_type": "code",
   "execution_count": 16,
   "metadata": {},
   "outputs": [
    {
     "data": {
      "image/png": "[encoded data removed]",
      "text/latex": [
       "$$\\left [ \\frac{2}{\\left(- \\frac{1}{2} - \\frac{\\sqrt{3} i}{2}\\right) \\sqrt[3]{\\frac{27}{2} + \\frac{3 \\sqrt{177}}{2}}} - \\frac{1}{3} \\left(- \\frac{1}{2} - \\frac{\\sqrt{3} i}{2}\\right) \\sqrt[3]{\\frac{27}{2} + \\frac{3 \\sqrt{177}}{2}}, \\quad - \\frac{1}{3} \\left(- \\frac{1}{2} + \\frac{\\sqrt{3} i}{2}\\right) \\sqrt[3]{\\frac{27}{2} + \\frac{3 \\sqrt{177}}{2}} + \\frac{2}{\\left(- \\frac{1}{2} + \\frac{\\sqrt{3} i}{2}\\right) \\sqrt[3]{\\frac{27}{2} + \\frac{3 \\sqrt{177}}{2}}}, \\quad - \\frac{1}{3} \\sqrt[3]{\\frac{27}{2} + \\frac{3 \\sqrt{177}}{2}} + \\frac{2}{\\sqrt[3]{\\frac{27}{2} + \\frac{3 \\sqrt{177}}{2}}}\\right ]$$"
      ],
      "text/plain": [
       "⎡                                                  _____________              \n",
       "⎢                                 ⎛  1   √3⋅ⅈ⎞    ╱ 27   3⋅√177     ⎛  1   √3⋅\n",
       "⎢                                 ⎜- ─ - ────⎟⋅3 ╱  ── + ──────     ⎜- ─ + ───\n",
       "⎢              2                  ⎝  2    2  ⎠ ╲╱   2      2        ⎝  2    2 \n",
       "⎢────────────────────────────── - ──────────────────────────────, - ──────────\n",
       "⎢                 _____________                 3                             \n",
       "⎢⎛  1   √3⋅ⅈ⎞    ╱ 27   3⋅√177                                                \n",
       "⎢⎜- ─ - ────⎟⋅3 ╱  ── + ──────                                                \n",
       "⎣⎝  2    2  ⎠ ╲╱   2      2                                                   \n",
       "\n",
       "       _____________                                         _____________    \n",
       "ⅈ⎞    ╱ 27   3⋅√177                                         ╱ 27   3⋅√177     \n",
       "─⎟⋅3 ╱  ── + ──────                                      3 ╱  ── + ──────     \n",
       " ⎠ ╲╱   2      2                     2                   ╲╱   2      2        \n",
       "──────────────────── + ──────────────────────────────, - ───────────────── + ─\n",
       "    3                                   _____________            3            \n",
       "                       ⎛  1   √3⋅ⅈ⎞    ╱ 27   3⋅√177                          \n",
       "                       ⎜- ─ + ────⎟⋅3 ╱  ── + ──────                         3\n",
       "                       ⎝  2    2  ⎠ ╲╱   2      2                            ╲\n",
       "\n",
       "                ⎤\n",
       "                ⎥\n",
       "                ⎥\n",
       "       2        ⎥\n",
       "────────────────⎥\n",
       "   _____________⎥\n",
       "  ╱ 27   3⋅√177 ⎥\n",
       " ╱  ── + ────── ⎥\n",
       "╱   2      2    ⎦"
      ]
     },
     "execution_count": 16,
     "metadata": {},
     "output_type": "execute_result"
    }
   ],
   "source": [
    "solve(x**3 + 2*x + 1, x)"
   ]
  },
  {
   "cell_type": "code",
   "execution_count": 17,
   "metadata": {},
   "outputs": [
    {
     "data": {
      "image/png": "[encoded data removed]",
      "text/latex": [
       "$$\\left [ \\operatorname{CRootOf} {\\left(x^{5} + 2 x + 1, 0\\right)}, \\quad \\operatorname{CRootOf} {\\left(x^{5} + 2 x + 1, 1\\right)}, \\quad \\operatorname{CRootOf} {\\left(x^{5} + 2 x + 1, 2\\right)}, \\quad \\operatorname{CRootOf} {\\left(x^{5} + 2 x + 1, 3\\right)}, \\quad \\operatorname{CRootOf} {\\left(x^{5} + 2 x + 1, 4\\right)}\\right ]$$"
      ],
      "text/plain": [
       "⎡       ⎛ 5             ⎞         ⎛ 5             ⎞         ⎛ 5             ⎞ \n",
       "⎣CRootOf⎝x  + 2⋅x + 1, 0⎠, CRootOf⎝x  + 2⋅x + 1, 1⎠, CRootOf⎝x  + 2⋅x + 1, 2⎠,\n",
       "\n",
       "        ⎛ 5             ⎞         ⎛ 5             ⎞⎤\n",
       " CRootOf⎝x  + 2⋅x + 1, 3⎠, CRootOf⎝x  + 2⋅x + 1, 4⎠⎦"
      ]
     },
     "execution_count": 17,
     "metadata": {},
     "output_type": "execute_result"
    }
   ],
   "source": [
    "solve(x**5 + 2*x + 1, x)"
   ]
  },
  {
   "cell_type": "markdown",
   "metadata": {},
   "source": [
    "### Function, dsolve\n",
    "\n",
    "Définition d'un symbole représentant une fonction. Solution d'équations différentielles."
   ]
  },
  {
   "cell_type": "code",
   "execution_count": 18,
   "metadata": {},
   "outputs": [
    {
     "data": {
      "image/png": "[encoded data removed]",
      "text/latex": [
       "$$y{\\left (t \\right )} = C_{2} e^{- t} + \\left(C_{1} + \\frac{t}{2}\\right) e^{t}$$"
      ],
      "text/plain": [
       "           -t   ⎛     t⎞  t\n",
       "y(t) = C₂⋅ℯ   + ⎜C₁ + ─⎟⋅ℯ \n",
       "                ⎝     2⎠   "
      ]
     },
     "execution_count": 18,
     "metadata": {},
     "output_type": "execute_result"
    }
   ],
   "source": [
    "t = symbols('t')\n",
    "y = Function('y')\n",
    "dsolve(Eq(y(t).diff(t, t) - y(t), exp(t)), y(t))"
   ]
  },
  {
   "cell_type": "markdown",
   "metadata": {},
   "source": [
    "### Matrix, eigenvals\n",
    "\n",
    "Définition d'une matrice. Calcul des valeurs propres."
   ]
  },
  {
   "cell_type": "code",
   "execution_count": 19,
   "metadata": {},
   "outputs": [
    {
     "data": {
      "image/png": "[encoded data removed]",
      "text/latex": [
       "$$\\left \\{ - \\mu - \\cos{\\left (k \\right )} : 1, \\quad - \\mu + \\cos{\\left (k \\right )} : 1\\right \\}$$"
      ],
      "text/plain": [
       "{-μ - cos(k): 1, -μ + cos(k): 1}"
      ]
     },
     "execution_count": 19,
     "metadata": {},
     "output_type": "execute_result"
    }
   ],
   "source": [
    "mu, k = symbols('mu k')\n",
    "A = Matrix([[-mu, cos(k)],[cos(k), -mu]])\n",
    "A.eigenvals()"
   ]
  },
  {
   "cell_type": "code",
   "execution_count": 20,
   "metadata": {},
   "outputs": [
    {
     "data": {
      "text/latex": [
       "$$\\left [ \\left ( - \\mu - \\cos{\\left (k \\right )}, \\quad 1, \\quad \\left [ \\left[\\begin{matrix}-1\\\\1\\end{matrix}\\right]\\right ]\\right ), \\quad \\left ( - \\mu + \\cos{\\left (k \\right )}, \\quad 1, \\quad \\left [ \\left[\\begin{matrix}1\\\\1\\end{matrix}\\right]\\right ]\\right )\\right ]$$"
      ],
      "text/plain": [
       "⎡⎛                ⎡⎡-1⎤⎤⎞  ⎛                ⎡⎡1⎤⎤⎞⎤\n",
       "⎢⎜-μ - cos(k), 1, ⎢⎢  ⎥⎥⎟, ⎜-μ + cos(k), 1, ⎢⎢ ⎥⎥⎟⎥\n",
       "⎣⎝                ⎣⎣1 ⎦⎦⎠  ⎝                ⎣⎣1⎦⎦⎠⎦"
      ]
     },
     "execution_count": 20,
     "metadata": {},
     "output_type": "execute_result"
    }
   ],
   "source": [
    "A.eigenvects()"
   ]
  },
  {
   "cell_type": "code",
   "execution_count": 21,
   "metadata": {},
   "outputs": [
    {
     "data": {
      "text/latex": [
       "$$\\left ( \\left[\\begin{matrix}-1 & 1\\\\1 & 1\\end{matrix}\\right], \\quad \\left[\\begin{matrix}- \\mu - \\cos{\\left (k \\right )} & 0\\\\0 & - \\mu + \\cos{\\left (k \\right )}\\end{matrix}\\right]\\right )$$"
      ],
      "text/plain": [
       "⎛⎡-1  1⎤  ⎡-μ - cos(k)       0     ⎤⎞\n",
       "⎜⎢     ⎥, ⎢                        ⎥⎟\n",
       "⎝⎣1   1⎦  ⎣     0       -μ + cos(k)⎦⎠"
      ]
     },
     "execution_count": 21,
     "metadata": {},
     "output_type": "execute_result"
    }
   ],
   "source": [
    "A.diagonalize()"
   ]
  },
  {
   "cell_type": "code",
   "execution_count": 22,
   "metadata": {},
   "outputs": [
    {
     "data": {
      "text/latex": [
       "$$\\left[\\begin{matrix}- \\frac{\\mu}{\\mu^{2} - \\cos^{2}{\\left (k \\right )}} & - \\frac{\\cos{\\left (k \\right )}}{\\mu^{2} - \\cos^{2}{\\left (k \\right )}}\\\\- \\frac{\\cos{\\left (k \\right )}}{\\mu^{2} - \\cos^{2}{\\left (k \\right )}} & - \\frac{\\mu}{\\mu^{2} - \\cos^{2}{\\left (k \\right )}}\\end{matrix}\\right]$$"
      ],
      "text/plain": [
       "⎡    -μ          -cos(k)   ⎤\n",
       "⎢────────────  ────────────⎥\n",
       "⎢ 2      2      2      2   ⎥\n",
       "⎢μ  - cos (k)  μ  - cos (k)⎥\n",
       "⎢                          ⎥\n",
       "⎢  -cos(k)         -μ      ⎥\n",
       "⎢────────────  ────────────⎥\n",
       "⎢ 2      2      2      2   ⎥\n",
       "⎣μ  - cos (k)  μ  - cos (k)⎦"
      ]
     },
     "execution_count": 22,
     "metadata": {},
     "output_type": "execute_result"
    }
   ],
   "source": [
    "A**(-1)"
   ]
  },
  {
   "cell_type": "code",
   "execution_count": 23,
   "metadata": {},
   "outputs": [
    {
     "name": "stdout",
     "output_type": "stream",
     "text": [
      "mu = Symbol('mu')\n",
      "k = Symbol('k')\n",
      "e = MutableDenseMatrix([[-mu/(mu**2 - cos(k)**2), -cos(k)/(mu**2 - cos(k)**2)], [-cos(k)/(mu**2 - cos(k)**2), -mu/(mu**2 - cos(k)**2)]])\n"
     ]
    }
   ],
   "source": [
    "print_python(A**(-1))"
   ]
  },
  {
   "cell_type": "code",
   "execution_count": 24,
   "metadata": {},
   "outputs": [
    {
     "data": {
      "text/latex": [
       "$$\\left[\\begin{matrix}- \\mu & - \\cos{\\left (k \\right )}\\\\- \\cos{\\left (k \\right )} & - \\mu\\end{matrix}\\right]$$"
      ],
      "text/plain": [
       "⎡  -μ     -cos(k)⎤\n",
       "⎢                ⎥\n",
       "⎣-cos(k)    -μ   ⎦"
      ]
     },
     "execution_count": 24,
     "metadata": {},
     "output_type": "execute_result"
    }
   ],
   "source": [
    "(mu**2 - cos(k)**2)*A**(-1)"
   ]
  },
  {
   "cell_type": "markdown",
   "metadata": {},
   "source": [
    "### subs\n",
    "\n",
    "Substitution d'une expression dans une autre"
   ]
  },
  {
   "cell_type": "code",
   "execution_count": 25,
   "metadata": {},
   "outputs": [
    {
     "data": {
      "image/png": "[encoded data removed]",
      "text/latex": [
       "$$2 \\sin{\\left (x \\right )} \\cos{\\left (x \\right )} + \\cos{\\left (2 x \\right )}$$"
      ],
      "text/plain": [
       "2⋅sin(x)⋅cos(x) + cos(2⋅x)"
      ]
     },
     "execution_count": 25,
     "metadata": {},
     "output_type": "execute_result"
    }
   ],
   "source": [
    "x = symbols('x')\n",
    "A = sin(2*x)+cos(2*x)\n",
    "A.subs(sin(2*x), 2*sin(x)*cos(x))"
   ]
  },
  {
   "cell_type": "code",
   "execution_count": 26,
   "metadata": {},
   "outputs": [
    {
     "data": {
      "image/png": "[encoded data removed]",
      "text/latex": [
       "$$1$$"
      ],
      "text/plain": [
       "1"
      ]
     },
     "execution_count": 26,
     "metadata": {},
     "output_type": "execute_result"
    }
   ],
   "source": [
    "A.subs(x, pi/4)"
   ]
  },
  {
   "cell_type": "code",
   "execution_count": 27,
   "metadata": {},
   "outputs": [
    {
     "data": {
      "image/png": "[encoded data removed]",
      "text/latex": [
       "$$- 4 x^{3} - 2 x + y^{4} + 4 y^{2} + 3$$"
      ],
      "text/plain": [
       "     3          4      2    \n",
       "- 4⋅x  - 2⋅x + y  + 4⋅y  + 3"
      ]
     },
     "execution_count": 27,
     "metadata": {},
     "output_type": "execute_result"
    }
   ],
   "source": [
    "x, y = symbols('x y')\n",
    "expr = x**4 - 4*x**3 + 4*x**2 - 2*x + 3\n",
    "expr.subs([(x**i, y**i) for i in range(5) if i % 2 == 0])"
   ]
  },
  {
   "cell_type": "markdown",
   "metadata": {},
   "source": [
    "### evalf\n",
    "\n",
    "Évalue une expression en tant que quantité numérique précise"
   ]
  },
  {
   "cell_type": "code",
   "execution_count": 28,
   "metadata": {},
   "outputs": [
    {
     "data": {
      "image/png": "[encoded data removed]",
      "text/latex": [
       "$$17.2943823618587$$"
      ],
      "text/plain": [
       "17.2943823618587"
      ]
     },
     "execution_count": 28,
     "metadata": {},
     "output_type": "execute_result"
    }
   ],
   "source": [
    "expr = x**2 + 3*x - 2\n",
    "expr.evalf(subs={x:pi})"
   ]
  },
  {
   "cell_type": "code",
   "execution_count": 30,
   "metadata": {},
   "outputs": [
    {
     "data": {
      "image/png": "[encoded data removed]",
      "text/latex": [
       "$$3.141592653589793238462643383279502884197169399375105820974944592307816406286208998628034825342117067982148086513282306647093844609550582231725359408128481117450284102701938521105559644622948954930381964428810975665933446128475648233786783165271201909145648566923460348610454326648213393607260249141273724587006606315588174881520920962829254091715364367892590360011330530548820466521384146951941511609433057270365759591953092186117381932611793105118548074462379962749567351885752724891227938183011949129833673362440656643086021394946395224737190702179860943702770539217176293176752384674818467669405132000568127145263560827785771342757789609173637178721468440901224953430146549585371050792279689258923542019956112129021960864034418159813629774771309960518707211349999998372978049951059731732816096318595024459455346908302642522308253344685035261931188171010003137838752886587533208381420617177669147303598253490428755468731159562863882353787593751957781857780532171226806613001927876611195909216420198$$"
      ],
      "text/plain": [
       "3.1415926535897932384626433832795028841971693993751058209749445923078164062862\n",
       "089986280348253421170679821480865132823066470938446095505822317253594081284811\n",
       "174502841027019385211055596446229489549303819644288109756659334461284756482337\n",
       "867831652712019091456485669234603486104543266482133936072602491412737245870066\n",
       "063155881748815209209628292540917153643678925903600113305305488204665213841469\n",
       "519415116094330572703657595919530921861173819326117931051185480744623799627495\n",
       "673518857527248912279381830119491298336733624406566430860213949463952247371907\n",
       "021798609437027705392171762931767523846748184676694051320005681271452635608277\n",
       "857713427577896091736371787214684409012249534301465495853710507922796892589235\n",
       "420199561121290219608640344181598136297747713099605187072113499999983729780499\n",
       "510597317328160963185950244594553469083026425223082533446850352619311881710100\n",
       "031378387528865875332083814206171776691473035982534904287554687311595628638823\n",
       "53787593751957781857780532171226806613001927876611195909216420198"
      ]
     },
     "execution_count": 30,
     "metadata": {},
     "output_type": "execute_result"
    }
   ],
   "source": [
    "pi.evalf(1000)"
   ]
  },
  {
   "cell_type": "markdown",
   "metadata": {},
   "source": [
    "### factor"
   ]
  },
  {
   "cell_type": "code",
   "execution_count": 31,
   "metadata": {},
   "outputs": [
    {
     "data": {
      "image/png": "[encoded data removed]",
      "text/latex": [
       "$$z \\left(x + 2 y\\right)^{2}$$"
      ],
      "text/plain": [
       "           2\n",
       "z⋅(x + 2⋅y) "
      ]
     },
     "execution_count": 31,
     "metadata": {},
     "output_type": "execute_result"
    }
   ],
   "source": [
    "x, y, z = symbols('x y z')\n",
    "factor(x**2*z + 4*x*y*z + 4*y**2*z)"
   ]
  },
  {
   "cell_type": "code",
   "execution_count": null,
   "metadata": {},
   "outputs": [],
   "source": []
  }
 ],
 "metadata": {
  "kernelspec": {
   "display_name": "Python 3 (ipykernel)",
   "language": "python",
   "name": "python3"
  },
  "language_info": {
   "codemirror_mode": {
    "name": "ipython",
    "version": 3
   },
   "file_extension": ".py",
   "mimetype": "text/x-python",
   "name": "python",
   "nbconvert_exporter": "python",
   "pygments_lexer": "ipython3",
   "version": "3.9.6"
  }
 },
 "nbformat": 4,
 "nbformat_minor": 4
}
