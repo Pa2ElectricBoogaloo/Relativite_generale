{
 "cells": [
  {
   "cell_type": "markdown",
   "metadata": {},
   "source": [
    "# PHQ615 : Calculs "
   ]
  },
  {
   "cell_type": "markdown",
   "metadata": {},
   "source": [
    "## Calcul de la connexion affine et du tenseur de courbure à partir de la métrique"
   ]
  },
  {
   "cell_type": "markdown",
   "metadata": {},
   "source": [
    "## Coordonnées polaires planes\n",
    "\n",
    "Espace plat décrit à l'aide des coordonnées polaires planes."
   ]
  },
  {
   "cell_type": "code",
   "execution_count": 2,
   "metadata": {},
   "outputs": [
    {
     "data": {
      "text/latex": [
       "$\\displaystyle \\left[\\begin{matrix}1 & 0\\\\0 & r^{2}\\end{matrix}\\right]$"
      ],
      "text/plain": [
       "⎡1  0 ⎤\n",
       "⎢     ⎥\n",
       "⎢    2⎥\n",
       "⎣0  r ⎦"
      ]
     },
     "execution_count": 2,
     "metadata": {},
     "output_type": "execute_result"
    }
   ],
   "source": [
    "from sympy import *\n",
    "from sympy import Array\n",
    "\n",
    "init_printing()\n",
    "\n",
    "r, φ = symbols('r φ')\n",
    "gd = Array([[1, 0],[0, r**2]])\n",
    "coords = Array([r,φ])\n",
    "gu = Array([[1, 0],[0, 1/(r**2)]])\n",
    "gd"
   ]
  },
  {
   "cell_type": "code",
   "execution_count": 3,
   "metadata": {},
   "outputs": [
    {
     "data": {
      "text/latex": [
       "$\\displaystyle \\left[\\begin{matrix}1 & 0\\\\0 & \\frac{1}{r^{2}}\\end{matrix}\\right]$"
      ],
      "text/plain": [
       "⎡1  0 ⎤\n",
       "⎢     ⎥\n",
       "⎢   1 ⎥\n",
       "⎢0  ──⎥\n",
       "⎢    2⎥\n",
       "⎣   r ⎦"
      ]
     },
     "execution_count": 3,
     "metadata": {},
     "output_type": "execute_result"
    }
   ],
   "source": [
    "gu"
   ]
  },
  {
   "cell_type": "code",
   "execution_count": 4,
   "metadata": {},
   "outputs": [
    {
     "data": {
      "text/latex": [
       "$\\displaystyle \\left[\\begin{matrix}\\left[\\begin{matrix}0 & 0\\\\0 & - r\\end{matrix}\\right] & \\left[\\begin{matrix}0 & r\\\\r & 0\\end{matrix}\\right]\\end{matrix}\\right]$"
      ],
      "text/plain": [
       "⎡⎡0  0 ⎤  ⎡0  r⎤⎤\n",
       "⎢⎢     ⎥  ⎢    ⎥⎥\n",
       "⎣⎣0  -r⎦  ⎣r  0⎦⎦"
      ]
     },
     "execution_count": 4,
     "metadata": {},
     "output_type": "execute_result"
    }
   ],
   "source": [
    "# connexion affine 'covariante'\n",
    "dg = derive_by_array(gd, coords)\n",
    "gammad = (permutedims(dg,(2,0,1)) + permutedims(dg,(2,1,0))-dg)/2\n",
    "gammad"
   ]
  },
  {
   "cell_type": "code",
   "execution_count": 5,
   "metadata": {},
   "outputs": [
    {
     "data": {
      "text/latex": [
       "$\\displaystyle \\left[\\begin{matrix}\\left[\\begin{matrix}0 & 0\\\\0 & - r\\end{matrix}\\right] & \\left[\\begin{matrix}0 & \\frac{1}{r}\\\\\\frac{1}{r} & 0\\end{matrix}\\right]\\end{matrix}\\right]$"
      ],
      "text/plain": [
       "⎡         ⎡   1⎤⎤\n",
       "⎢         ⎢0  ─⎥⎥\n",
       "⎢⎡0  0 ⎤  ⎢   r⎥⎥\n",
       "⎢⎢     ⎥  ⎢    ⎥⎥\n",
       "⎢⎣0  -r⎦  ⎢1   ⎥⎥\n",
       "⎢         ⎢─  0⎥⎥\n",
       "⎣         ⎣r   ⎦⎦"
      ]
     },
     "execution_count": 5,
     "metadata": {},
     "output_type": "execute_result"
    }
   ],
   "source": [
    "# connexion affine\n",
    "Γ = tensorcontraction(tensorproduct(gu, gammad), (1,2))\n",
    "Γ"
   ]
  },
  {
   "cell_type": "markdown",
   "metadata": {},
   "source": [
    "## Calcul du tenseur de courbure"
   ]
  },
  {
   "cell_type": "code",
   "execution_count": 6,
   "metadata": {},
   "outputs": [
    {
     "data": {
      "text/latex": [
       "$\\displaystyle \\left[\\begin{matrix}\\left[\\begin{matrix}0 & 0\\\\0 & 0\\end{matrix}\\right] & \\left[\\begin{matrix}0 & 0\\\\0 & 0\\end{matrix}\\right]\\\\\\left[\\begin{matrix}0 & 0\\\\0 & 0\\end{matrix}\\right] & \\left[\\begin{matrix}0 & 0\\\\0 & 0\\end{matrix}\\right]\\end{matrix}\\right]$"
      ],
      "text/plain": [
       "⎡⎡0  0⎤  ⎡0  0⎤⎤\n",
       "⎢⎢    ⎥  ⎢    ⎥⎥\n",
       "⎢⎣0  0⎦  ⎣0  0⎦⎥\n",
       "⎢              ⎥\n",
       "⎢⎡0  0⎤  ⎡0  0⎤⎥\n",
       "⎢⎢    ⎥  ⎢    ⎥⎥\n",
       "⎣⎣0  0⎦  ⎣0  0⎦⎦"
      ]
     },
     "execution_count": 6,
     "metadata": {},
     "output_type": "execute_result"
    }
   ],
   "source": [
    "R1 = derive_by_array(Γ, coords)\n",
    "C = tensorcontraction(tensorproduct(Γ, Γ), (0,4))\n",
    "R = permutedims(R1,(1,2,0,3)) - permutedims(R1,(1,2,3,0)) + permutedims(C,(2,0,3,1)) - permutedims(C,(2,0,1,3))\n",
    "R = simplify(R)\n",
    "R"
   ]
  },
  {
   "cell_type": "code",
   "execution_count": null,
   "metadata": {},
   "outputs": [],
   "source": []
  }
 ],
 "metadata": {
  "kernelspec": {
   "display_name": "Python 3.10.1 ('myvirtualenv': venv)",
   "language": "python",
   "name": "python3"
  },
  "language_info": {
   "codemirror_mode": {
    "name": "ipython",
    "version": 3
   },
   "file_extension": ".py",
   "mimetype": "text/x-python",
   "name": "python",
   "nbconvert_exporter": "python",
   "pygments_lexer": "ipython3",
   "version": "3.10.1"
  },
  "vscode": {
   "interpreter": {
    "hash": "0bc176d6352be6a0417877d35106934720e4f4ce54e0e20189a1058627421954"
   }
  }
 },
 "nbformat": 4,
 "nbformat_minor": 4
}
