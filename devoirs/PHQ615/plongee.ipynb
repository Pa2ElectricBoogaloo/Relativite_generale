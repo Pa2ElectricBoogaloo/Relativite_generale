{
 "cells": [
  {
   "cell_type": "markdown",
   "metadata": {},
   "source": [
    "# variétés plongées\n",
    "## Calcul des vecteurs de base et du tenseur métrique"
   ]
  },
  {
   "cell_type": "markdown",
   "metadata": {},
   "source": [
    "## sphère unité, coordonnées stéréographiques"
   ]
  },
  {
   "cell_type": "code",
   "execution_count": 9,
   "metadata": {},
   "outputs": [
    {
     "data": {
      "text/latex": [
       "$$\\left[\\begin{matrix}\\frac{2 \\left(- r^{2} + 1\\right) \\cos{\\left (φ \\right )}}{\\left(r^{2} + 1\\right)^{2}} & \\frac{2 \\left(- r^{2} + 1\\right) \\sin{\\left (φ \\right )}}{\\left(r^{2} + 1\\right)^{2}} & \\frac{4 r}{\\left(r^{2} + 1\\right)^{2}}\\\\- \\frac{2 r \\sin{\\left (φ \\right )}}{r^{2} + 1} & \\frac{2 r \\cos{\\left (φ \\right )}}{r^{2} + 1} & 0\\end{matrix}\\right]$$"
      ],
      "text/plain": [
       "⎡  ⎛   2    ⎞           ⎛   2    ⎞                  ⎤\n",
       "⎢2⋅⎝- r  + 1⎠⋅cos(φ)  2⋅⎝- r  + 1⎠⋅sin(φ)     4⋅r   ⎥\n",
       "⎢───────────────────  ───────────────────  ─────────⎥\n",
       "⎢             2                    2               2⎥\n",
       "⎢     ⎛ 2    ⎞             ⎛ 2    ⎞        ⎛ 2    ⎞ ⎥\n",
       "⎢     ⎝r  + 1⎠             ⎝r  + 1⎠        ⎝r  + 1⎠ ⎥\n",
       "⎢                                                   ⎥\n",
       "⎢   -2⋅r⋅sin(φ)           2⋅r⋅cos(φ)                ⎥\n",
       "⎢   ────────────          ──────────           0    ⎥\n",
       "⎢       2                    2                      ⎥\n",
       "⎣      r  + 1               r  + 1                  ⎦"
      ]
     },
     "execution_count": 9,
     "metadata": {},
     "output_type": "execute_result"
    }
   ],
   "source": [
    "from sympy import *\n",
    "from sympy import Array\n",
    "\n",
    "init_printing()\n",
    "\n",
    "# sphère unité, coordonnées stéréographiques\n",
    "r, φ = symbols('r, φ')\n",
    "X = Array([2*r*cos(φ)/(1+r*r), 2*r*sin(φ)/(1+r*r), (r*r-1)/(1+r*r)])\n",
    "coords = Array([r, φ])\n",
    "d = len(coords)\n",
    "E = derive_by_array(X, coords)\n",
    "simplify(E)"
   ]
  },
  {
   "cell_type": "code",
   "execution_count": 10,
   "metadata": {},
   "outputs": [
    {
     "data": {
      "image/png": "[encoded data removed]",
      "text/latex": [
       "$$\\left[\\begin{matrix}\\frac{4}{\\left(r^{2} + 1\\right)^{2}} & 0\\\\0 & \\frac{4 r^{2}}{\\left(r^{2} + 1\\right)^{2}}\\end{matrix}\\right]$$"
      ],
      "text/plain": [
       "⎡    4               ⎤\n",
       "⎢─────────      0    ⎥\n",
       "⎢        2           ⎥\n",
       "⎢⎛ 2    ⎞            ⎥\n",
       "⎢⎝r  + 1⎠            ⎥\n",
       "⎢                    ⎥\n",
       "⎢                 2  ⎥\n",
       "⎢              4⋅r   ⎥\n",
       "⎢    0      ─────────⎥\n",
       "⎢                   2⎥\n",
       "⎢           ⎛ 2    ⎞ ⎥\n",
       "⎣           ⎝r  + 1⎠ ⎦"
      ]
     },
     "execution_count": 10,
     "metadata": {},
     "output_type": "execute_result"
    }
   ],
   "source": [
    "g = tensorcontraction(tensorproduct(E, E), (1,3))\n",
    "simplify(g)"
   ]
  },
  {
   "cell_type": "markdown",
   "metadata": {},
   "source": [
    "## sphère unité, coordonnées polaires"
   ]
  },
  {
   "cell_type": "code",
   "execution_count": 11,
   "metadata": {},
   "outputs": [
    {
     "data": {
      "text/latex": [
       "$$\\left[\\begin{matrix}\\cos{\\left (θ \\right )} \\cos{\\left (φ \\right )} & \\sin{\\left (φ \\right )} \\cos{\\left (θ \\right )} & - \\sin{\\left (θ \\right )}\\\\- \\sin{\\left (θ \\right )} \\sin{\\left (φ \\right )} & \\sin{\\left (θ \\right )} \\cos{\\left (φ \\right )} & 0\\end{matrix}\\right]$$"
      ],
      "text/plain": [
       "⎡cos(θ)⋅cos(φ)   sin(φ)⋅cos(θ)  -sin(θ)⎤\n",
       "⎢                                      ⎥\n",
       "⎣-sin(θ)⋅sin(φ)  sin(θ)⋅cos(φ)     0   ⎦"
      ]
     },
     "execution_count": 11,
     "metadata": {},
     "output_type": "execute_result"
    }
   ],
   "source": [
    "from sympy import *\n",
    "from sympy import Array\n",
    "\n",
    "init_printing()\n",
    "\n",
    "# sphère unité, coordonnées polaires\n",
    "θ, φ = symbols('θ, φ')\n",
    "X = Array([sin(θ)*cos(φ), sin(θ)*sin(φ), cos(θ)])\n",
    "coords = Array([θ, φ])\n",
    "d = len(coords)\n",
    "E = derive_by_array(X, coords)\n",
    "simplify(E)"
   ]
  },
  {
   "cell_type": "code",
   "execution_count": 12,
   "metadata": {},
   "outputs": [
    {
     "data": {
      "text/latex": [
       "$$\\left[\\begin{matrix}1 & 0\\\\0 & \\sin^{2}{\\left (θ \\right )}\\end{matrix}\\right]$$"
      ],
      "text/plain": [
       "⎡1     0   ⎤\n",
       "⎢          ⎥\n",
       "⎢      2   ⎥\n",
       "⎣0  sin (θ)⎦"
      ]
     },
     "execution_count": 12,
     "metadata": {},
     "output_type": "execute_result"
    }
   ],
   "source": [
    "g = tensorcontraction(tensorproduct(E, E), (1,3))\n",
    "simplify(g)"
   ]
  },
  {
   "cell_type": "code",
   "execution_count": null,
   "metadata": {},
   "outputs": [],
   "source": []
  }
 ],
 "metadata": {
  "kernelspec": {
   "display_name": "Python 3 (ipykernel)",
   "language": "python",
   "name": "python3"
  },
  "language_info": {
   "codemirror_mode": {
    "name": "ipython",
    "version": 3
   },
   "file_extension": ".py",
   "mimetype": "text/x-python",
   "name": "python",
   "nbconvert_exporter": "python",
   "pygments_lexer": "ipython3",
   "version": "3.9.6"
  }
 },
 "nbformat": 4,
 "nbformat_minor": 4
}
