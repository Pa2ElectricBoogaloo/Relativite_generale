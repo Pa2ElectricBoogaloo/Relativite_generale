{
 "cells": [
  {
   "cell_type": "markdown",
   "metadata": {},
   "source": [
    "# PHQ615 : Calculs "
   ]
  },
  {
   "cell_type": "markdown",
   "metadata": {},
   "source": [
    "## Calcul de la connexion affine et du tenseur de courbure à partir de la métrique"
   ]
  },
  {
   "cell_type": "markdown",
   "metadata": {},
   "source": [
    "## Métrique de Friedmann-Lemaître"
   ]
  },
  {
   "cell_type": "code",
   "execution_count": 4,
   "metadata": {},
   "outputs": [
    {
     "data": {
      "text/latex": [
       "$\\displaystyle \\left[\\begin{matrix}\\frac{E^{2}}{- k r^{2} + 1} & 0 & 0\\\\0 & E^{2} r^{2} & 0\\\\0 & 0 & E^{2} r^{2} \\sin^{2}{\\left(θ \\right)}\\end{matrix}\\right]$"
      ],
      "text/plain": [
       "⎡     2                          ⎤\n",
       "⎢    E                           ⎥\n",
       "⎢──────────    0          0      ⎥\n",
       "⎢     2                          ⎥\n",
       "⎢- k⋅r  + 1                      ⎥\n",
       "⎢                                ⎥\n",
       "⎢             2  2               ⎥\n",
       "⎢    0       E ⋅r         0      ⎥\n",
       "⎢                                ⎥\n",
       "⎢                    2  2    2   ⎥\n",
       "⎣    0         0    E ⋅r ⋅sin (θ)⎦"
      ]
     },
     "execution_count": 4,
     "metadata": {},
     "output_type": "execute_result"
    }
   ],
   "source": [
    "from sympy import *\n",
    "from sympy import Array\n",
    "\n",
    "init_printing()\n",
    "\n",
    "r, θ, ϕ, k, E = symbols('r, θ, ϕ, k, E')\n",
    "gd = E*E*Array([[1/(1-k*r*r), 0, 0], [0, r**2, 0],[0, 0, r**2*sin(θ)**2]])\n",
    "coords = Array([r, θ, ϕ])\n",
    "gu = (1/(E*E))*Array([[(1-k*r*r), 0, 0], [0, 1/r**2, 0],[0, 0, 1/(r**2*sin(θ)**2)]])\n",
    "gd"
   ]
  },
  {
   "cell_type": "code",
   "execution_count": 5,
   "metadata": {},
   "outputs": [
    {
     "data": {
      "text/latex": [
       "$\\displaystyle \\left[\\begin{matrix}\\frac{- k r^{2} + 1}{E^{2}} & 0 & 0\\\\0 & \\frac{1}{E^{2} r^{2}} & 0\\\\0 & 0 & \\frac{1}{E^{2} r^{2} \\sin^{2}{\\left(θ \\right)}}\\end{matrix}\\right]$"
      ],
      "text/plain": [
       "⎡     2                          ⎤\n",
       "⎢- k⋅r  + 1                      ⎥\n",
       "⎢──────────    0          0      ⎥\n",
       "⎢     2                          ⎥\n",
       "⎢    E                           ⎥\n",
       "⎢                                ⎥\n",
       "⎢              1                 ⎥\n",
       "⎢    0       ─────        0      ⎥\n",
       "⎢             2  2               ⎥\n",
       "⎢            E ⋅r                ⎥\n",
       "⎢                                ⎥\n",
       "⎢                         1      ⎥\n",
       "⎢    0         0    ─────────────⎥\n",
       "⎢                    2  2    2   ⎥\n",
       "⎣                   E ⋅r ⋅sin (θ)⎦"
      ]
     },
     "execution_count": 5,
     "metadata": {},
     "output_type": "execute_result"
    }
   ],
   "source": [
    "gu"
   ]
  },
  {
   "cell_type": "code",
   "execution_count": 6,
   "metadata": {},
   "outputs": [
    {
     "data": {
      "text/latex": [
       "$\\displaystyle \\left[\\begin{matrix}\\left[\\begin{matrix}\\frac{E^{2} k r}{\\left(k r^{2} - 1\\right)^{2}} & 0 & 0\\\\0 & - E^{2} r & 0\\\\0 & 0 & - E^{2} r \\sin^{2}{\\left(θ \\right)}\\end{matrix}\\right] & \\left[\\begin{matrix}0 & E^{2} r & 0\\\\E^{2} r & 0 & 0\\\\0 & 0 & - E^{2} r^{2} \\sin{\\left(θ \\right)} \\cos{\\left(θ \\right)}\\end{matrix}\\right] & \\left[\\begin{matrix}0 & 0 & E^{2} r \\sin^{2}{\\left(θ \\right)}\\\\0 & 0 & E^{2} r^{2} \\sin{\\left(θ \\right)} \\cos{\\left(θ \\right)}\\\\E^{2} r \\sin^{2}{\\left(θ \\right)} & E^{2} r^{2} \\sin{\\left(θ \\right)} \\cos{\\left(θ \\right)} & 0\\end{matrix}\\right]\\end{matrix}\\right]$"
      ],
      "text/plain": [
       "⎡⎡    2                            ⎤                                          \n",
       "⎢⎢   E ⋅k⋅r                        ⎥                                          \n",
       "⎢⎢───────────    0          0      ⎥  ⎡       2                        ⎤  ⎡   \n",
       "⎢⎢          2                      ⎥  ⎢ 0    E ⋅r           0          ⎥  ⎢   \n",
       "⎢⎢⎛   2    ⎞                       ⎥  ⎢                                ⎥  ⎢   \n",
       "⎢⎢⎝k⋅r  - 1⎠                       ⎥  ⎢ 2                              ⎥  ⎢   \n",
       "⎢⎢                                 ⎥  ⎢E ⋅r   0             0          ⎥  ⎢   \n",
       "⎢⎢               2                 ⎥  ⎢                                ⎥  ⎢   \n",
       "⎢⎢     0       -E ⋅r        0      ⎥  ⎢              2  2              ⎥  ⎢ 2 \n",
       "⎢⎢                                 ⎥  ⎣ 0     0    -E ⋅r ⋅sin(θ)⋅cos(θ)⎦  ⎣E ⋅\n",
       "⎢⎢                      2      2   ⎥                                          \n",
       "⎣⎣     0         0    -E ⋅r⋅sin (θ)⎦                                          \n",
       "\n",
       "                                                    ⎤\n",
       "                                                    ⎥\n",
       "                                    2      2       ⎤⎥\n",
       "  0                 0              E ⋅r⋅sin (θ)    ⎥⎥\n",
       "                                                   ⎥⎥\n",
       "                                 2  2              ⎥⎥\n",
       "  0                 0           E ⋅r ⋅sin(θ)⋅cos(θ)⎥⎥\n",
       "                                                   ⎥⎥\n",
       "     2      2  2                                   ⎥⎥\n",
       "r⋅sin (θ)  E ⋅r ⋅sin(θ)⋅cos(θ)           0         ⎦⎥\n",
       "                                                    ⎥\n",
       "                                                    ⎦"
      ]
     },
     "execution_count": 6,
     "metadata": {},
     "output_type": "execute_result"
    }
   ],
   "source": [
    "# connexion affine 'covariante'\n",
    "dg = derive_by_array(gd, coords)\n",
    "gammad = (permutedims(dg,(2,0,1)) + permutedims(dg,(2,1,0))-dg)/2\n",
    "gammad = factor(gammad)\n",
    "gammad"
   ]
  },
  {
   "cell_type": "code",
   "execution_count": 7,
   "metadata": {},
   "outputs": [
    {
     "data": {
      "text/latex": [
       "$\\displaystyle \\left[\\begin{matrix}\\left[\\begin{matrix}- \\frac{k r}{k r^{2} - 1} & 0 & 0\\\\0 & k r^{3} - r & 0\\\\0 & 0 & r \\left(k r^{2} - 1\\right) \\sin^{2}{\\left(θ \\right)}\\end{matrix}\\right] & \\left[\\begin{matrix}0 & \\frac{1}{r} & 0\\\\\\frac{1}{r} & 0 & 0\\\\0 & 0 & - \\frac{\\sin{\\left(2 θ \\right)}}{2}\\end{matrix}\\right] & \\left[\\begin{matrix}0 & 0 & \\frac{1}{r}\\\\0 & 0 & \\frac{1}{\\tan{\\left(θ \\right)}}\\\\\\frac{1}{r} & \\frac{1}{\\tan{\\left(θ \\right)}} & 0\\end{matrix}\\right]\\end{matrix}\\right]$"
      ],
      "text/plain": [
       "⎡⎡ -k⋅r                                   ⎤  ⎡   1            ⎤  ⎡            \n",
       "⎢⎢────────     0               0          ⎥  ⎢0  ─      0     ⎥  ⎢0    0      \n",
       "⎢⎢   2                                    ⎥  ⎢   r            ⎥  ⎢            \n",
       "⎢⎢k⋅r  - 1                                ⎥  ⎢                ⎥  ⎢            \n",
       "⎢⎢                                        ⎥  ⎢1               ⎥  ⎢            \n",
       "⎢⎢             3                          ⎥  ⎢─  0      0     ⎥  ⎢0    0     ─\n",
       "⎢⎢   0      k⋅r  - r           0          ⎥  ⎢r               ⎥  ⎢           t\n",
       "⎢⎢                                        ⎥  ⎢                ⎥  ⎢            \n",
       "⎢⎢                      ⎛   2    ⎞    2   ⎥  ⎢      -sin(2⋅θ) ⎥  ⎢1    1      \n",
       "⎢⎣   0         0      r⋅⎝k⋅r  - 1⎠⋅sin (θ)⎦  ⎢0  0  ──────────⎥  ⎢─  ──────   \n",
       "⎣                                            ⎣          2     ⎦  ⎣r  tan(θ)   \n",
       "\n",
       " 1   ⎤⎤\n",
       " ─   ⎥⎥\n",
       " r   ⎥⎥\n",
       "     ⎥⎥\n",
       " 1   ⎥⎥\n",
       "─────⎥⎥\n",
       "an(θ)⎥⎥\n",
       "     ⎥⎥\n",
       "     ⎥⎥\n",
       " 0   ⎥⎥\n",
       "     ⎦⎦"
      ]
     },
     "execution_count": 7,
     "metadata": {},
     "output_type": "execute_result"
    }
   ],
   "source": [
    "# connexion affine\n",
    "Γ = tensorcontraction(tensorproduct(gu, gammad), (1,2))\n",
    "Γ = simplify(Γ)\n",
    "Γ"
   ]
  },
  {
   "cell_type": "markdown",
   "metadata": {},
   "source": [
    "## Calcul du tenseur de courbure"
   ]
  },
  {
   "cell_type": "code",
   "execution_count": 8,
   "metadata": {},
   "outputs": [
    {
     "data": {
      "text/latex": [
       "$\\displaystyle \\left[\\begin{matrix}\\left[\\begin{matrix}0 & 0 & 0\\\\0 & 0 & 0\\\\0 & 0 & 0\\end{matrix}\\right] & \\left[\\begin{matrix}0 & k r^{2} & 0\\\\- k r^{2} & 0 & 0\\\\0 & 0 & 0\\end{matrix}\\right] & \\left[\\begin{matrix}0 & 0 & k r^{2} \\sin^{2}{\\left(θ \\right)}\\\\0 & 0 & \\frac{r \\left(k r^{2} - 1\\right) \\left(\\sin{\\left(2 θ \\right)} \\tan{\\left(θ \\right)} + \\cos{\\left(2 θ \\right)} - 1\\right)}{2 \\tan{\\left(θ \\right)}}\\\\- k r^{2} \\sin^{2}{\\left(θ \\right)} & 0 & 0\\end{matrix}\\right]\\\\\\left[\\begin{matrix}0 & \\frac{k}{k r^{2} - 1} & 0\\\\- \\frac{k}{k r^{2} - 1} & 0 & 0\\\\0 & 0 & 0\\end{matrix}\\right] & \\left[\\begin{matrix}0 & 0 & 0\\\\0 & 0 & 0\\\\0 & 0 & 0\\end{matrix}\\right] & \\left[\\begin{matrix}0 & 0 & 0\\\\0 & 0 & k r^{2} \\sin^{2}{\\left(θ \\right)}\\\\0 & - k r^{2} \\sin^{2}{\\left(θ \\right)} & 0\\end{matrix}\\right]\\\\\\left[\\begin{matrix}0 & 0 & \\frac{k}{k r^{2} - 1}\\\\0 & 0 & 0\\\\- \\frac{k}{k r^{2} - 1} & 0 & 0\\end{matrix}\\right] & \\left[\\begin{matrix}0 & 0 & 0\\\\0 & 0 & - k r^{2}\\\\0 & k r^{2} & 0\\end{matrix}\\right] & \\left[\\begin{matrix}0 & 0 & 0\\\\0 & 0 & 0\\\\0 & 0 & 0\\end{matrix}\\right]\\end{matrix}\\right]$"
      ],
      "text/plain": [
       "⎡                                           ⎡                                 \n",
       "⎢                                           ⎢      0        0                 \n",
       "⎢                         ⎡          2   ⎤  ⎢                                 \n",
       "⎢       ⎡0  0  0⎤         ⎢  0    k⋅r   0⎥  ⎢                    ⎛   2    ⎞   \n",
       "⎢       ⎢       ⎥         ⎢              ⎥  ⎢                  r⋅⎝k⋅r  - 1⎠⋅(s\n",
       "⎢       ⎢0  0  0⎥         ⎢    2         ⎥  ⎢      0        0  ───────────────\n",
       "⎢       ⎢       ⎥         ⎢-k⋅r    0    0⎥  ⎢                                 \n",
       "⎢       ⎣0  0  0⎦         ⎢              ⎥  ⎢                                 \n",
       "⎢                         ⎣  0     0    0⎦  ⎢    2    2                       \n",
       "⎢                                           ⎣-k⋅r ⋅sin (θ)  0                 \n",
       "⎢                                                                             \n",
       "⎢⎡             k       ⎤                                                      \n",
       "⎢⎢   0      ────────  0⎥                                                      \n",
       "⎢⎢             2       ⎥                                    ⎡0        0       \n",
       "⎢⎢          k⋅r  - 1   ⎥     ⎡0  0  0⎤                      ⎢                 \n",
       "⎢⎢                     ⎥     ⎢       ⎥                      ⎢                 \n",
       "⎢⎢  -k                 ⎥     ⎢0  0  0⎥                      ⎢0        0       \n",
       "⎢⎢────────     0      0⎥     ⎢       ⎥                      ⎢                 \n",
       "⎢⎢   2                 ⎥     ⎣0  0  0⎦                      ⎢       2    2    \n",
       "⎢⎢k⋅r  - 1             ⎥                                    ⎣0  -k⋅r ⋅sin (θ) \n",
       "⎢⎢                     ⎥                                                      \n",
       "⎢⎣   0         0      0⎦                                                      \n",
       "⎢                                                                             \n",
       "⎢⎡                k    ⎤                                                      \n",
       "⎢⎢   0      0  ────────⎥                                                      \n",
       "⎢⎢                2    ⎥  ⎡0   0      0  ⎤                                    \n",
       "⎢⎢             k⋅r  - 1⎥  ⎢              ⎥                              ⎡0  0 \n",
       "⎢⎢                     ⎥  ⎢             2⎥                              ⎢     \n",
       "⎢⎢   0      0     0    ⎥  ⎢0   0    -k⋅r ⎥                              ⎢0  0 \n",
       "⎢⎢                     ⎥  ⎢              ⎥                              ⎢     \n",
       "⎢⎢  -k                 ⎥  ⎢      2       ⎥                              ⎣0  0 \n",
       "⎢⎢────────  0     0    ⎥  ⎣0  k⋅r     0  ⎦                                    \n",
       "⎢⎢   2                 ⎥                                                      \n",
       "⎣⎣k⋅r  - 1             ⎦                                                      \n",
       "\n",
       "    2    2                    ⎤⎤\n",
       " k⋅r ⋅sin (θ)                 ⎥⎥\n",
       "                              ⎥⎥\n",
       "                              ⎥⎥\n",
       "in(2⋅θ)⋅tan(θ) + cos(2⋅θ) - 1)⎥⎥\n",
       "──────────────────────────────⎥⎥\n",
       "    2⋅tan(θ)                  ⎥⎥\n",
       "                              ⎥⎥\n",
       "                              ⎥⎥\n",
       "       0                      ⎦⎥\n",
       "                               ⎥\n",
       "                               ⎥\n",
       "                               ⎥\n",
       "      0      ⎤                 ⎥\n",
       "             ⎥                 ⎥\n",
       "    2    2   ⎥                 ⎥\n",
       " k⋅r ⋅sin (θ)⎥                 ⎥\n",
       "             ⎥                 ⎥\n",
       "             ⎥                 ⎥\n",
       "      0      ⎦                 ⎥\n",
       "                               ⎥\n",
       "                               ⎥\n",
       "                               ⎥\n",
       "                               ⎥\n",
       "                               ⎥\n",
       "                               ⎥\n",
       " 0⎤                            ⎥\n",
       "  ⎥                            ⎥\n",
       " 0⎥                            ⎥\n",
       "  ⎥                            ⎥\n",
       " 0⎦                            ⎥\n",
       "                               ⎥\n",
       "                               ⎥\n",
       "                               ⎦"
      ]
     },
     "execution_count": 8,
     "metadata": {},
     "output_type": "execute_result"
    }
   ],
   "source": [
    "R1 = derive_by_array(Γ, coords)\n",
    "C = tensorcontraction(tensorproduct(Γ, Γ), (0,4))\n",
    "R = permutedims(R1,(1,2,0,3)) - permutedims(R1,(1,2,3,0)) + permutedims(C,(2,0,3,1)) - permutedims(C,(2,0,1,3))\n",
    "R = simplify(R)\n",
    "R"
   ]
  },
  {
   "cell_type": "code",
   "execution_count": null,
   "metadata": {},
   "outputs": [],
   "source": [
    "# tenseur de Riemann covariant"
   ]
  },
  {
   "cell_type": "code",
   "execution_count": 9,
   "metadata": {},
   "outputs": [
    {
     "data": {
      "text/latex": [
       "$\\displaystyle \\left[\\begin{matrix}\\left[\\begin{matrix}0 & 0 & 0\\\\0 & 0 & 0\\\\0 & 0 & 0\\end{matrix}\\right] & \\left[\\begin{matrix}0 & - \\frac{E^{2} k r^{2}}{k r^{2} - 1} & 0\\\\\\frac{E^{2} k r^{2}}{k r^{2} - 1} & 0 & 0\\\\0 & 0 & 0\\end{matrix}\\right] & \\left[\\begin{matrix}0 & 0 & - \\frac{E^{2} k r^{2} \\sin^{2}{\\left(θ \\right)}}{k r^{2} - 1}\\\\0 & 0 & - \\frac{E^{2} r \\left(\\sin{\\left(2 θ \\right)} \\tan{\\left(θ \\right)} + \\cos{\\left(2 θ \\right)} - 1\\right)}{2 \\tan{\\left(θ \\right)}}\\\\\\frac{E^{2} k r^{2} \\sin^{2}{\\left(θ \\right)}}{k r^{2} - 1} & 0 & 0\\end{matrix}\\right]\\\\\\left[\\begin{matrix}0 & \\frac{E^{2} k r^{2}}{k r^{2} - 1} & 0\\\\- \\frac{E^{2} k r^{2}}{k r^{2} - 1} & 0 & 0\\\\0 & 0 & 0\\end{matrix}\\right] & \\left[\\begin{matrix}0 & 0 & 0\\\\0 & 0 & 0\\\\0 & 0 & 0\\end{matrix}\\right] & \\left[\\begin{matrix}0 & 0 & 0\\\\0 & 0 & E^{2} k r^{4} \\sin^{2}{\\left(θ \\right)}\\\\0 & - E^{2} k r^{4} \\sin^{2}{\\left(θ \\right)} & 0\\end{matrix}\\right]\\\\\\left[\\begin{matrix}0 & 0 & \\frac{E^{2} k r^{2} \\sin^{2}{\\left(θ \\right)}}{k r^{2} - 1}\\\\0 & 0 & 0\\\\- \\frac{E^{2} k r^{2} \\sin^{2}{\\left(θ \\right)}}{k r^{2} - 1} & 0 & 0\\end{matrix}\\right] & \\left[\\begin{matrix}0 & 0 & 0\\\\0 & 0 & - E^{2} k r^{4} \\sin^{2}{\\left(θ \\right)}\\\\0 & E^{2} k r^{4} \\sin^{2}{\\left(θ \\right)} & 0\\end{matrix}\\right] & \\left[\\begin{matrix}0 & 0 & 0\\\\0 & 0 & 0\\\\0 & 0 & 0\\end{matrix}\\right]\\end{matrix}\\right]$"
      ],
      "text/plain": [
       "⎡                                                                             \n",
       "⎢                                                                             \n",
       "⎢                                                ⎡            2    2    ⎤     \n",
       "⎢                                                ⎢          -E ⋅k⋅r     ⎥     \n",
       "⎢                                                ⎢   0      ─────────  0⎥     \n",
       "⎢                                                ⎢              2       ⎥     \n",
       "⎢               ⎡0  0  0⎤                        ⎢           k⋅r  - 1   ⎥     \n",
       "⎢               ⎢       ⎥                        ⎢                      ⎥     \n",
       "⎢               ⎢0  0  0⎥                        ⎢ 2    2               ⎥     \n",
       "⎢               ⎢       ⎥                        ⎢E ⋅k⋅r                ⎥     \n",
       "⎢               ⎣0  0  0⎦                        ⎢────────      0      0⎥     \n",
       "⎢                                                ⎢   2                  ⎥     \n",
       "⎢                                                ⎢k⋅r  - 1              ⎥     \n",
       "⎢                                                ⎢                      ⎥     \n",
       "⎢                                                ⎣   0          0      0⎦     \n",
       "⎢                                                                             \n",
       "⎢                                                                             \n",
       "⎢       ⎡            2    2    ⎤                                              \n",
       "⎢       ⎢           E ⋅k⋅r     ⎥                                              \n",
       "⎢       ⎢    0      ────────  0⎥                                              \n",
       "⎢       ⎢              2       ⎥                                              \n",
       "⎢       ⎢           k⋅r  - 1   ⎥                        ⎡0  0  0⎤             \n",
       "⎢       ⎢                      ⎥                        ⎢       ⎥             \n",
       "⎢       ⎢  2    2              ⎥                        ⎢0  0  0⎥             \n",
       "⎢       ⎢-E ⋅k⋅r               ⎥                        ⎢       ⎥             \n",
       "⎢       ⎢─────────     0      0⎥                        ⎣0  0  0⎦             \n",
       "⎢       ⎢    2                 ⎥                                              \n",
       "⎢       ⎢ k⋅r  - 1             ⎥                                              \n",
       "⎢       ⎢                      ⎥                                              \n",
       "⎢       ⎣    0         0      0⎦                                              \n",
       "⎢                                                                             \n",
       "⎢⎡                       2    2    2   ⎤                                      \n",
       "⎢⎢                      E ⋅k⋅r ⋅sin (θ)⎥                                      \n",
       "⎢⎢        0          0  ───────────────⎥                                      \n",
       "⎢⎢                             2       ⎥  ⎡0         0                0       \n",
       "⎢⎢                          k⋅r  - 1   ⎥  ⎢                                   \n",
       "⎢⎢                                     ⎥  ⎢                      2    4    2  \n",
       "⎢⎢        0          0         0       ⎥  ⎢0         0         -E ⋅k⋅r ⋅sin (θ\n",
       "⎢⎢                                     ⎥  ⎢                                   \n",
       "⎢⎢  2    2    2                        ⎥  ⎢    2    4    2                    \n",
       "⎢⎢-E ⋅k⋅r ⋅sin (θ)                     ⎥  ⎣0  E ⋅k⋅r ⋅sin (θ)         0       \n",
       "⎢⎢─────────────────  0         0       ⎥                                      \n",
       "⎢⎢        2                            ⎥                                      \n",
       "⎣⎣     k⋅r  - 1                        ⎦                                      \n",
       "\n",
       "    ⎡                                 2    2    2               ⎤⎤\n",
       "    ⎢                               -E ⋅k⋅r ⋅sin (θ)            ⎥⎥\n",
       "    ⎢       0         0             ─────────────────           ⎥⎥\n",
       "    ⎢                                       2                   ⎥⎥\n",
       "    ⎢                                    k⋅r  - 1               ⎥⎥\n",
       "    ⎢                                                           ⎥⎥\n",
       "    ⎢                      2                                    ⎥⎥\n",
       "    ⎢                    -E ⋅r⋅(sin(2⋅θ)⋅tan(θ) + cos(2⋅θ) - 1) ⎥⎥\n",
       "    ⎢       0         0  ───────────────────────────────────────⎥⎥\n",
       "    ⎢                                    2⋅tan(θ)               ⎥⎥\n",
       "    ⎢                                                           ⎥⎥\n",
       "    ⎢ 2    2    2                                               ⎥⎥\n",
       "    ⎢E ⋅k⋅r ⋅sin (θ)                                            ⎥⎥\n",
       "    ⎢───────────────  0                     0                   ⎥⎥\n",
       "    ⎢       2                                                   ⎥⎥\n",
       "    ⎣    k⋅r  - 1                                               ⎦⎥\n",
       "                                                                 ⎥\n",
       "                                                                 ⎥\n",
       "                                                                 ⎥\n",
       "                                                                 ⎥\n",
       "               ⎡0         0                 0       ⎤            ⎥\n",
       "               ⎢                                    ⎥            ⎥\n",
       "               ⎢                      2    4    2   ⎥            ⎥\n",
       "               ⎢0         0          E ⋅k⋅r ⋅sin (θ)⎥            ⎥\n",
       "               ⎢                                    ⎥            ⎥\n",
       "               ⎢     2    4    2                    ⎥            ⎥\n",
       "               ⎣0  -E ⋅k⋅r ⋅sin (θ)         0       ⎦            ⎥\n",
       "                                                                 ⎥\n",
       "                                                                 ⎥\n",
       "                                                                 ⎥\n",
       "                                                                 ⎥\n",
       "                                                                 ⎥\n",
       "                                                                 ⎥\n",
       "                                                                 ⎥\n",
       " ⎤                                                               ⎥\n",
       " ⎥                            ⎡0  0  0⎤                          ⎥\n",
       " ⎥                            ⎢       ⎥                          ⎥\n",
       ")⎥                            ⎢0  0  0⎥                          ⎥\n",
       " ⎥                            ⎢       ⎥                          ⎥\n",
       " ⎥                            ⎣0  0  0⎦                          ⎥\n",
       " ⎦                                                               ⎥\n",
       "                                                                 ⎥\n",
       "                                                                 ⎥\n",
       "                                                                 ⎦"
      ]
     },
     "execution_count": 9,
     "metadata": {},
     "output_type": "execute_result"
    }
   ],
   "source": [
    "Rcov =  tensorcontraction(tensorproduct(gd, R), (1,2))\n",
    "Rcov = simplify(Rcov)\n",
    "Rcov"
   ]
  },
  {
   "cell_type": "code",
   "execution_count": 10,
   "metadata": {},
   "outputs": [
    {
     "data": {
      "text/latex": [
       "$\\displaystyle \\left[\\begin{matrix}\\left[\\begin{matrix}0 & 0 & 0\\\\0 & 0 & 0\\\\0 & 0 & 0\\end{matrix}\\right] & \\left[\\begin{matrix}0 & 0 & 0\\\\0 & 0 & 0\\\\0 & 0 & - \\frac{E^{2} r \\left(\\sin{\\left(2 θ \\right)} \\tan{\\left(θ \\right)} + \\cos{\\left(2 θ \\right)} - 1\\right)}{2 \\tan{\\left(θ \\right)}}\\end{matrix}\\right] & \\left[\\begin{matrix}0 & 0 & 0\\\\0 & 0 & - \\frac{E^{2} r \\left(\\sin{\\left(2 θ \\right)} \\tan{\\left(θ \\right)} + \\cos{\\left(2 θ \\right)} - 1\\right)}{2 \\tan{\\left(θ \\right)}}\\\\0 & - \\frac{E^{2} r \\left(\\sin{\\left(2 θ \\right)} \\tan{\\left(θ \\right)} + \\cos{\\left(2 θ \\right)} - 1\\right)}{2 \\tan{\\left(θ \\right)}} & 0\\end{matrix}\\right]\\\\\\left[\\begin{matrix}0 & 0 & 0\\\\0 & 0 & 0\\\\0 & 0 & 0\\end{matrix}\\right] & \\left[\\begin{matrix}0 & 0 & 0\\\\0 & 0 & 0\\\\0 & 0 & 0\\end{matrix}\\right] & \\left[\\begin{matrix}0 & 0 & 0\\\\0 & 0 & 0\\\\0 & 0 & 0\\end{matrix}\\right]\\\\\\left[\\begin{matrix}0 & 0 & 0\\\\0 & 0 & 0\\\\0 & 0 & 0\\end{matrix}\\right] & \\left[\\begin{matrix}0 & 0 & 0\\\\0 & 0 & 0\\\\0 & 0 & 0\\end{matrix}\\right] & \\left[\\begin{matrix}0 & 0 & 0\\\\0 & 0 & 0\\\\0 & 0 & 0\\end{matrix}\\right]\\end{matrix}\\right]$"
      ],
      "text/plain": [
       "⎡                                                            ⎡0               \n",
       "⎢           ⎡0  0                     0                   ⎤  ⎢                \n",
       "⎢           ⎢                                             ⎥  ⎢                \n",
       "⎢⎡0  0  0⎤  ⎢0  0                     0                   ⎥  ⎢                \n",
       "⎢⎢       ⎥  ⎢                                             ⎥  ⎢0               \n",
       "⎢⎢0  0  0⎥  ⎢        2                                    ⎥  ⎢                \n",
       "⎢⎢       ⎥  ⎢      -E ⋅r⋅(sin(2⋅θ)⋅tan(θ) + cos(2⋅θ) - 1) ⎥  ⎢                \n",
       "⎢⎣0  0  0⎦  ⎢0  0  ───────────────────────────────────────⎥  ⎢     2          \n",
       "⎢           ⎣                      2⋅tan(θ)               ⎦  ⎢   -E ⋅r⋅(sin(2⋅\n",
       "⎢                                                            ⎢0  ─────────────\n",
       "⎢                                                            ⎣                \n",
       "⎢                                                                             \n",
       "⎢⎡0  0  0⎤                     ⎡0  0  0⎤                                      \n",
       "⎢⎢       ⎥                     ⎢       ⎥                                      \n",
       "⎢⎢0  0  0⎥                     ⎢0  0  0⎥                                      \n",
       "⎢⎢       ⎥                     ⎢       ⎥                                      \n",
       "⎢⎣0  0  0⎦                     ⎣0  0  0⎦                                      \n",
       "⎢                                                                             \n",
       "⎢⎡0  0  0⎤                     ⎡0  0  0⎤                                      \n",
       "⎢⎢       ⎥                     ⎢       ⎥                                      \n",
       "⎢⎢0  0  0⎥                     ⎢0  0  0⎥                                      \n",
       "⎢⎢       ⎥                     ⎢       ⎥                                      \n",
       "⎣⎣0  0  0⎦                     ⎣0  0  0⎦                                      \n",
       "\n",
       "      0                                        0                   ⎤⎤\n",
       "                                                                   ⎥⎥\n",
       "                              2                                    ⎥⎥\n",
       "                            -E ⋅r⋅(sin(2⋅θ)⋅tan(θ) + cos(2⋅θ) - 1) ⎥⎥\n",
       "      0                     ───────────────────────────────────────⎥⎥\n",
       "                                            2⋅tan(θ)               ⎥⎥\n",
       "                                                                   ⎥⎥\n",
       "                                                                   ⎥⎥\n",
       "θ)⋅tan(θ) + cos(2⋅θ) - 1)                                          ⎥⎥\n",
       "──────────────────────────                     0                   ⎥⎥\n",
       "   2⋅tan(θ)                                                        ⎦⎥\n",
       "                                                                    ⎥\n",
       "                     ⎡0  0  0⎤                                      ⎥\n",
       "                     ⎢       ⎥                                      ⎥\n",
       "                     ⎢0  0  0⎥                                      ⎥\n",
       "                     ⎢       ⎥                                      ⎥\n",
       "                     ⎣0  0  0⎦                                      ⎥\n",
       "                                                                    ⎥\n",
       "                     ⎡0  0  0⎤                                      ⎥\n",
       "                     ⎢       ⎥                                      ⎥\n",
       "                     ⎢0  0  0⎥                                      ⎥\n",
       "                     ⎢       ⎥                                      ⎥\n",
       "                     ⎣0  0  0⎦                                      ⎦"
      ]
     },
     "execution_count": 10,
     "metadata": {},
     "output_type": "execute_result"
    }
   ],
   "source": [
    "# vérification des propriétés de symétrie de Rcov\n",
    "A = Rcov + permutedims(Rcov,(0,2,3,1)) + permutedims(Rcov,(0,3,1,2))\n",
    "A = simplify(A)\n",
    "trigsimp(A)"
   ]
  },
  {
   "cell_type": "code",
   "execution_count": 11,
   "metadata": {},
   "outputs": [
    {
     "data": {
      "text/latex": [
       "$\\displaystyle \\left[\\begin{matrix}0 & 0 & 0\\\\0 & 0 & 0\\\\0 & 0 & 0\\end{matrix}\\right]$"
      ],
      "text/plain": [
       "⎡0  0  0⎤\n",
       "⎢       ⎥\n",
       "⎢0  0  0⎥\n",
       "⎢       ⎥\n",
       "⎣0  0  0⎦"
      ]
     },
     "execution_count": 11,
     "metadata": {},
     "output_type": "execute_result"
    }
   ],
   "source": [
    "# vérification de la nullité de la contraction des deux premiers indices\n",
    "tensorcontraction(R, (0,1))"
   ]
  },
  {
   "cell_type": "code",
   "execution_count": 12,
   "metadata": {},
   "outputs": [
    {
     "data": {
      "text/latex": [
       "$\\displaystyle \\left[\\begin{matrix}- \\frac{2 k}{k r^{2} - 1} & 0 & 0\\\\0 & 2 k r^{2} & 0\\\\0 & 0 & 2 k r^{2} \\sin^{2}{\\left(θ \\right)}\\end{matrix}\\right]$"
      ],
      "text/plain": [
       "⎡ -2⋅k                           ⎤\n",
       "⎢────────    0           0       ⎥\n",
       "⎢   2                            ⎥\n",
       "⎢k⋅r  - 1                        ⎥\n",
       "⎢                                ⎥\n",
       "⎢               2                ⎥\n",
       "⎢   0      2⋅k⋅r         0       ⎥\n",
       "⎢                                ⎥\n",
       "⎢                       2    2   ⎥\n",
       "⎣   0        0     2⋅k⋅r ⋅sin (θ)⎦"
      ]
     },
     "execution_count": 12,
     "metadata": {},
     "output_type": "execute_result"
    }
   ],
   "source": [
    "# tenseur de Ricci\n",
    "Ricci = tensorcontraction(R, (0,2))\n",
    "Ricci = simplify(Ricci)\n",
    "Ricci"
   ]
  },
  {
   "cell_type": "code",
   "execution_count": 13,
   "metadata": {},
   "outputs": [
    {
     "data": {
      "image/png": "[encoded data removed]",
      "text/latex": [
       "$\\displaystyle \\frac{12 k^{2}}{E^{4}}$"
      ],
      "text/plain": [
       "    2\n",
       "12⋅k \n",
       "─────\n",
       "   4 \n",
       "  E  "
      ]
     },
     "execution_count": 13,
     "metadata": {},
     "output_type": "execute_result"
    }
   ],
   "source": [
    "# carré de la courbure\n",
    "Rcontra = tensorcontraction(tensorproduct(gu, R), (1,3))\n",
    "Rcontra = tensorcontraction(tensorproduct(gu, Rcontra), (1,4))\n",
    "Rcontra = tensorcontraction(tensorproduct(gu, Rcontra), (1,5))\n",
    "R2 = tensorcontraction(tensorproduct(Rcov, Rcontra), (0,4))\n",
    "R2 = tensorcontraction(R2, (0,3))\n",
    "R2 = tensorcontraction(R2, (0,2))\n",
    "R2 = tensorcontraction(R2, (0,1))\n",
    "R2 = simplify(R2)\n",
    "R2"
   ]
  },
  {
   "cell_type": "code",
   "execution_count": 14,
   "metadata": {},
   "outputs": [
    {
     "data": {
      "image/png": "[encoded data removed]",
      "text/latex": [
       "$\\displaystyle \\frac{6 k}{E^{2}}$"
      ],
      "text/plain": [
       "6⋅k\n",
       "───\n",
       "  2\n",
       " E "
      ]
     },
     "execution_count": 14,
     "metadata": {},
     "output_type": "execute_result"
    }
   ],
   "source": [
    "# Courbure scalaire\n",
    "Rm = tensorcontraction(tensorproduct(gu,Ricci), (1,2))\n",
    "Rscal = tensorcontraction(Rm, (0,1))\n",
    "simplify(Rscal)"
   ]
  }
 ],
 "metadata": {
  "kernelspec": {
   "display_name": "Python 3",
   "language": "python",
   "name": "python3"
  },
  "language_info": {
   "codemirror_mode": {
    "name": "ipython",
    "version": 3
   },
   "file_extension": ".py",
   "mimetype": "text/x-python",
   "name": "python",
   "nbconvert_exporter": "python",
   "pygments_lexer": "ipython3",
   "version": "3.8.5"
  }
 },
 "nbformat": 4,
 "nbformat_minor": 4
}
