{
 "cells": [
  {
   "cell_type": "markdown",
   "metadata": {},
   "source": [
    "# Coordonnées de Kottler-Møller"
   ]
  },
  {
   "cell_type": "code",
   "execution_count": 2,
   "metadata": {},
   "outputs": [
    {
     "data": {
      "text/latex": [
       "$\\displaystyle \\left[\\begin{matrix}α \\left(x + \\frac{1}{α}\\right) \\cosh{\\left(t α \\right)} & α \\left(x + \\frac{1}{α}\\right) \\sinh{\\left(t α \\right)}\\\\\\sinh{\\left(t α \\right)} & \\cosh{\\left(t α \\right)}\\end{matrix}\\right]$"
      ],
      "text/plain": [
       "⎡  ⎛    1⎞              ⎛    1⎞          ⎤\n",
       "⎢α⋅⎜x + ─⎟⋅cosh(t⋅α)  α⋅⎜x + ─⎟⋅sinh(t⋅α)⎥\n",
       "⎢  ⎝    α⎠              ⎝    α⎠          ⎥\n",
       "⎢                                        ⎥\n",
       "⎣     sinh(t⋅α)            cosh(t⋅α)     ⎦"
      ]
     },
     "execution_count": 2,
     "metadata": {},
     "output_type": "execute_result"
    }
   ],
   "source": [
    "from sympy import *\n",
    "from sympy import Array\n",
    "\n",
    "init_printing()\n",
    "\n",
    "x, t, α, y, z = symbols('x t α y z')\n",
    "eta = Array([[1,0,],[0,-1]])\n",
    "Xp = Array([t, x])\n",
    "X = Array([(x+1/α)*sinh(α*t), (x+1/α)*cosh(α*t)-1/α])\n",
    "J = derive_by_array(X, Xp)\n",
    "J"
   ]
  },
  {
   "cell_type": "code",
   "execution_count": 3,
   "metadata": {},
   "outputs": [
    {
     "data": {
      "text/latex": [
       "$\\displaystyle \\left[\\begin{matrix}\\left(x α + 1\\right)^{2} & 0\\\\0 & -1\\end{matrix}\\right]$"
      ],
      "text/plain": [
       "⎡         2    ⎤\n",
       "⎢(x⋅α + 1)   0 ⎥\n",
       "⎢              ⎥\n",
       "⎣    0       -1⎦"
      ]
     },
     "execution_count": 3,
     "metadata": {},
     "output_type": "execute_result"
    }
   ],
   "source": [
    "Jm = J.tomatrix().T\n",
    "etam = eta.tomatrix()\n",
    "gm = simplify(Jm.T*etam*Jm)\n",
    "gm"
   ]
  },
  {
   "cell_type": "code",
   "execution_count": 5,
   "metadata": {},
   "outputs": [
    {
     "data": {
      "text/latex": [
       "$$\\left[\\begin{matrix}\\frac{1}{\\left(x α + 1\\right)^{2}} & 0\\\\0 & -1\\end{matrix}\\right]$$"
      ],
      "text/plain": [
       "⎡    1         ⎤\n",
       "⎢──────────  0 ⎥\n",
       "⎢         2    ⎥\n",
       "⎢(x⋅α + 1)     ⎥\n",
       "⎢              ⎥\n",
       "⎣    0       -1⎦"
      ]
     },
     "execution_count": 5,
     "metadata": {},
     "output_type": "execute_result"
    }
   ],
   "source": [
    "gm**(-1)"
   ]
  },
  {
   "cell_type": "code",
   "execution_count": 7,
   "metadata": {},
   "outputs": [
    {
     "data": {
      "text/latex": [
       "$$\\left[\\begin{matrix}\\left(x α + 1\\right)^{2} & 0\\\\0 & -1\\end{matrix}\\right]$$"
      ],
      "text/plain": [
       "⎡         2    ⎤\n",
       "⎢(x⋅α + 1)   0 ⎥\n",
       "⎢              ⎥\n",
       "⎣    0       -1⎦"
      ]
     },
     "execution_count": 7,
     "metadata": {},
     "output_type": "execute_result"
    }
   ],
   "source": [
    "gd = Array(gm)\n",
    "gu = Array(gm**(-1))\n",
    "gd"
   ]
  },
  {
   "cell_type": "code",
   "execution_count": 9,
   "metadata": {},
   "outputs": [
    {
     "data": {
      "text/latex": [
       "$$\\left[\\begin{matrix}\\left[\\begin{matrix}0 & \\frac{α}{x α + 1}\\\\\\frac{α}{x α + 1} & 0\\end{matrix}\\right] & \\left[\\begin{matrix}α \\left(x α + 1\\right) & 0\\\\0 & 0\\end{matrix}\\right]\\end{matrix}\\right]$$"
      ],
      "text/plain": [
       "⎡⎡            α   ⎤                  ⎤\n",
       "⎢⎢   0     ───────⎥                  ⎥\n",
       "⎢⎢         x⋅α + 1⎥  ⎡α⋅(x⋅α + 1)  0⎤⎥\n",
       "⎢⎢                ⎥  ⎢              ⎥⎥\n",
       "⎢⎢   α            ⎥  ⎣     0       0⎦⎥\n",
       "⎢⎢───────     0   ⎥                  ⎥\n",
       "⎣⎣x⋅α + 1         ⎦                  ⎦"
      ]
     },
     "execution_count": 9,
     "metadata": {},
     "output_type": "execute_result"
    }
   ],
   "source": [
    "# connexion affine 'covariante'\n",
    "dg = derive_by_array(gd, Xp)\n",
    "gammad = (permutedims(dg,(2,0,1)) + permutedims(dg,(2,1,0))-dg)/2\n",
    "gammad = factor(simplify(gammad))\n",
    "Γ = tensorcontraction(tensorproduct(gu, gammad), (1,2))\n",
    "Γ = factor(Γ)\n",
    "Γ"
   ]
  },
  {
   "cell_type": "code",
   "execution_count": 10,
   "metadata": {},
   "outputs": [
    {
     "data": {
      "text/latex": [
       "$$\\left[\\begin{matrix}\\left[\\begin{matrix}0 & 0\\\\0 & 0\\end{matrix}\\right] & \\left[\\begin{matrix}0 & 0\\\\0 & 0\\end{matrix}\\right]\\\\\\left[\\begin{matrix}0 & 0\\\\0 & 0\\end{matrix}\\right] & \\left[\\begin{matrix}0 & 0\\\\0 & 0\\end{matrix}\\right]\\end{matrix}\\right]$$"
      ],
      "text/plain": [
       "⎡⎡0  0⎤  ⎡0  0⎤⎤\n",
       "⎢⎢    ⎥  ⎢    ⎥⎥\n",
       "⎢⎣0  0⎦  ⎣0  0⎦⎥\n",
       "⎢              ⎥\n",
       "⎢⎡0  0⎤  ⎡0  0⎤⎥\n",
       "⎢⎢    ⎥  ⎢    ⎥⎥\n",
       "⎣⎣0  0⎦  ⎣0  0⎦⎦"
      ]
     },
     "execution_count": 10,
     "metadata": {},
     "output_type": "execute_result"
    }
   ],
   "source": [
    "R1 = derive_by_array(Γ, Xp)\n",
    "C = tensorcontraction(tensorproduct(Γ, Γ), (0,4))\n",
    "R = permutedims(R1,(1,2,0,3)) - permutedims(R1,(1,2,3,0)) + permutedims(C,(2,0,3,1)) - permutedims(C,(2,0,1,3))\n",
    "R = factor(simplify(R))\n",
    "R"
   ]
  },
  {
   "cell_type": "code",
   "execution_count": 7,
   "metadata": {},
   "outputs": [
    {
     "data": {
      "text/latex": [
       "$\\displaystyle \\left[\\begin{matrix}0 & \\frac{x \\left(x α + 1\\right)}{R_{3}} & \\frac{y \\left(x α + 1\\right) \\cosh{\\left(t α \\right)}}{R_{3}} & \\frac{z \\left(x α + 1\\right) \\cosh{\\left(t α \\right)}}{R_{3}}\\\\- \\frac{x \\left(x α + 1\\right)}{R_{3}} & 0 & \\frac{y \\sinh{\\left(t α \\right)}}{R_{3}} & \\frac{z \\sinh{\\left(t α \\right)}}{R_{3}}\\\\- \\frac{y \\left(x α + 1\\right) \\cosh{\\left(t α \\right)}}{R_{3}} & - \\frac{y \\sinh{\\left(t α \\right)}}{R_{3}} & 0 & 0\\\\- \\frac{z \\left(x α + 1\\right) \\cosh{\\left(t α \\right)}}{R_{3}} & - \\frac{z \\sinh{\\left(t α \\right)}}{R_{3}} & 0 & 0\\end{matrix}\\right]$"
      ],
      "text/plain": [
       "⎡                          x⋅(x⋅α + 1)   y⋅(x⋅α + 1)⋅cosh(t⋅α)  z⋅(x⋅α + 1)⋅co\n",
       "⎢           0              ───────────   ─────────────────────  ──────────────\n",
       "⎢                               R₃                 R₃                     R₃  \n",
       "⎢                                                                             \n",
       "⎢     -x⋅(x⋅α + 1)                            y⋅sinh(t⋅α)            z⋅sinh(t⋅\n",
       "⎢     ─────────────             0             ───────────            ─────────\n",
       "⎢           R₃                                     R₃                     R₃  \n",
       "⎢                                                                             \n",
       "⎢-y⋅(x⋅α + 1)⋅cosh(t⋅α)   -y⋅sinh(t⋅α)                                        \n",
       "⎢───────────────────────  ─────────────            0                      0   \n",
       "⎢           R₃                  R₃                                            \n",
       "⎢                                                                             \n",
       "⎢-z⋅(x⋅α + 1)⋅cosh(t⋅α)   -z⋅sinh(t⋅α)                                        \n",
       "⎢───────────────────────  ─────────────            0                      0   \n",
       "⎣           R₃                  R₃                                            \n",
       "\n",
       "sh(t⋅α)⎤\n",
       "───────⎥\n",
       "       ⎥\n",
       "       ⎥\n",
       "α)     ⎥\n",
       "──     ⎥\n",
       "       ⎥\n",
       "       ⎥\n",
       "       ⎥\n",
       "       ⎥\n",
       "       ⎥\n",
       "       ⎥\n",
       "       ⎥\n",
       "       ⎥\n",
       "       ⎦"
      ]
     },
     "execution_count": 7,
     "metadata": {},
     "output_type": "execute_result"
    }
   ],
   "source": [
    "Xp = Array([t, x, y, z])\n",
    "X = Array([(x+1/α)*sinh(α*t), (x+1/α)*cosh(α*t)-1/α, y, z])\n",
    "J = derive_by_array(X, Xp)\n",
    "R3 = symbols('R3')\n",
    "F = Array([[0, x/R3, y/R3, z/R3],[-x/R3,0,0,0],[-y/R3,0,0,0],[-z/R3,0,0,0]])\n",
    "Jm = J.tomatrix().T\n",
    "Fm = F.tomatrix()\n",
    "Fpm = simplify(Jm.T*Fm*Jm)\n",
    "Fpm\n"
   ]
  },
  {
   "cell_type": "code",
   "execution_count": 6,
   "metadata": {},
   "outputs": [
    {
     "data": {
      "text/latex": [
       "$\\displaystyle \\left[\\begin{matrix}α \\left(x + \\frac{1}{α}\\right) \\cosh{\\left(t α \\right)} & α \\left(x + \\frac{1}{α}\\right) \\sinh{\\left(t α \\right)} & 0 & 0\\\\\\sinh{\\left(t α \\right)} & \\cosh{\\left(t α \\right)} & 0 & 0\\\\0 & 0 & 1 & 0\\\\0 & 0 & 0 & 1\\end{matrix}\\right]$"
      ],
      "text/plain": [
       "⎡  ⎛    1⎞              ⎛    1⎞                ⎤\n",
       "⎢α⋅⎜x + ─⎟⋅cosh(t⋅α)  α⋅⎜x + ─⎟⋅sinh(t⋅α)  0  0⎥\n",
       "⎢  ⎝    α⎠              ⎝    α⎠                ⎥\n",
       "⎢                                              ⎥\n",
       "⎢     sinh(t⋅α)            cosh(t⋅α)       0  0⎥\n",
       "⎢                                              ⎥\n",
       "⎢         0                    0           1  0⎥\n",
       "⎢                                              ⎥\n",
       "⎣         0                    0           0  1⎦"
      ]
     },
     "execution_count": 6,
     "metadata": {},
     "output_type": "execute_result"
    }
   ],
   "source": [
    "J"
   ]
  },
  {
   "cell_type": "code",
   "execution_count": null,
   "metadata": {},
   "outputs": [],
   "source": []
  }
 ],
 "metadata": {
  "kernelspec": {
   "display_name": "Python 3",
   "language": "python",
   "name": "python3"
  },
  "language_info": {
   "codemirror_mode": {
    "name": "ipython",
    "version": 3
   },
   "file_extension": ".py",
   "mimetype": "text/x-python",
   "name": "python",
   "nbconvert_exporter": "python",
   "pygments_lexer": "ipython3",
   "version": "3.8.5"
  }
 },
 "nbformat": 4,
 "nbformat_minor": 4
}
